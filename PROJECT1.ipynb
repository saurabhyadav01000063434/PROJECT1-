{
 "cells": [
  {
   "cell_type": "code",
   "execution_count": null,
   "id": "4473fc6c",
   "metadata": {
    "scrolled": false
   },
   "outputs": [],
   "source": [
    "import pandas as pd  \n",
    "import numpy as np  \n",
    "import matplotlib.pyplot as plt  \n",
    "%matplotlib inline\n",
    "data=pd.read_csv(r\"C:\\Users\\Saurabh yadav\\Desktop\\weather.csv\")\n",
    "data.head()"
   ]
  },
  {
   "cell_type": "code",
   "execution_count": null,
   "id": "61d78de1",
   "metadata": {},
   "outputs": [],
   "source": [
    "#BASIC INFO of data frame :rows ,column ,type\n",
    "data.info()"
   ]
  },
  {
   "cell_type": "code",
   "execution_count": null,
   "id": "47fc8f52",
   "metadata": {},
   "outputs": [],
   "source": [
    "#provide a default view \n",
    "data.head()\n",
    "#data[:5]"
   ]
  },
  {
   "cell_type": "code",
   "execution_count": null,
   "id": "b4b51917",
   "metadata": {},
   "outputs": [],
   "source": [
    "#find difrentweather condition available\n",
    "data['Daily Summary'].unique()"
   ]
  },
  {
   "cell_type": "code",
   "execution_count": null,
   "id": "012a0e02",
   "metadata": {},
   "outputs": [],
   "source": [
    "#time when wheat was clear\n",
    "data['Daily Summary'].value_counts()"
   ]
  },
  {
   "cell_type": "code",
   "execution_count": null,
   "id": "f2227a1a",
   "metadata": {},
   "outputs": [],
   "source": [
    "data['Wind Speed (km/h)'].unique()"
   ]
  }
 ],
 "metadata": {
  "kernelspec": {
   "display_name": "Python 3 (ipykernel)",
   "language": "python",
   "name": "python3"
  },
  "language_info": {
   "codemirror_mode": {
    "name": "ipython",
    "version": 3
   },
   "file_extension": ".py",
   "mimetype": "text/x-python",
   "name": "python",
   "nbconvert_exporter": "python",
   "pygments_lexer": "ipython3",
   "version": "3.9.5"
  }
 },
 "nbformat": 4,
 "nbformat_minor": 5
}
